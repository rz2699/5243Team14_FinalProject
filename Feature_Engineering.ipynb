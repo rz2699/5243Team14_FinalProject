{
  "nbformat": 4,
  "nbformat_minor": 0,
  "metadata": {
    "colab": {
      "provenance": []
    },
    "kernelspec": {
      "name": "python3",
      "display_name": "Python 3"
    },
    "language_info": {
      "name": "python"
    }
  },
  "cells": [
    {
      "cell_type": "code",
      "execution_count": null,
      "metadata": {
        "id": "6ufxHIN26Xbu"
      },
      "outputs": [],
      "source": [
        "import pandas as pd\n",
        "from sklearn.preprocessing import StandardScaler, OneHotEncoder\n",
        "from sklearn.compose import ColumnTransformer\n",
        "from sklearn.pipeline import Pipeline\n",
        "from sklearn.impute import SimpleImputer\n",
        "import numpy as np"
      ]
    },
    {
      "cell_type": "code",
      "source": [
        "from google.colab import drive\n",
        "drive.mount('/content/drive')"
      ],
      "metadata": {
        "colab": {
          "base_uri": "https://localhost:8080/"
        },
        "id": "Y7Tp7Q9t8dp5",
        "outputId": "2fb60d61-3978-4b7a-bfbf-e5eca4d79b3f"
      },
      "execution_count": null,
      "outputs": [
        {
          "output_type": "stream",
          "name": "stdout",
          "text": [
            "Drive already mounted at /content/drive; to attempt to forcibly remount, call drive.mount(\"/content/drive\", force_remount=True).\n"
          ]
        }
      ]
    },
    {
      "cell_type": "code",
      "source": [
        "data = pd.read_csv('/content/drive/MyDrive/Colab Notebooks/5243final/laptopData_CLEAN.csv')"
      ],
      "metadata": {
        "id": "5hbStTCX6fBT"
      },
      "execution_count": null,
      "outputs": []
    },
    {
      "cell_type": "code",
      "source": [
        "print(data.isnull().sum())"
      ],
      "metadata": {
        "colab": {
          "base_uri": "https://localhost:8080/"
        },
        "id": "9pvGM2Kkyjnd",
        "outputId": "ac69edcb-a315-4b18-bcb2-b2c53ddd4f87"
      },
      "execution_count": null,
      "outputs": [
        {
          "output_type": "stream",
          "name": "stdout",
          "text": [
            "Company          0\n",
            "TypeName         0\n",
            "Ram              0\n",
            "OpSys            0\n",
            "Weight           0\n",
            "Price            0\n",
            "PPI              0\n",
            "Cpu processor    0\n",
            "Gpu_brand        0\n",
            "HDD              0\n",
            "SSD              0\n",
            "Hybrid           0\n",
            "Flash_Storage    0\n",
            "dtype: int64\n"
          ]
        }
      ]
    },
    {
      "cell_type": "code",
      "source": [
        "print(data.columns)"
      ],
      "metadata": {
        "colab": {
          "base_uri": "https://localhost:8080/"
        },
        "id": "OyBJN2NgA7u4",
        "outputId": "ed3b1689-5782-44e3-c5f2-5c2cc34ea474"
      },
      "execution_count": null,
      "outputs": [
        {
          "output_type": "stream",
          "name": "stdout",
          "text": [
            "Index(['Company', 'TypeName', 'Ram', 'OpSys', 'Weight', 'Price', 'PPI',\n",
            "       'Cpu processor', 'Gpu_brand', 'HDD', 'SSD', 'Hybrid', 'Flash_Storage'],\n",
            "      dtype='object')\n"
          ]
        }
      ]
    },
    {
      "cell_type": "code",
      "source": [
        "# Get CPU brand\n",
        "data['CPU_brand'] = data['Cpu processor'].map(lambda x: x.split()[0] if isinstance(x, str) else np.nan)\n",
        "\n",
        "# print(data['CPU_brand'][5]) # test = \"AMD\""
      ],
      "metadata": {
        "id": "CrtEvE9L_DPC"
      },
      "execution_count": null,
      "outputs": []
    },
    {
      "cell_type": "code",
      "source": [
        "# Get total memory with sum of 'HDD','SSD','Hybrid' and 'Flash_Storage'\n",
        "data['Total_Memory_GB'] = data[['HDD', 'SSD', 'Hybrid', 'Flash_Storage']].sum(axis=1)\n",
        "\n",
        "# print(data['Total_Memory_GB'][36]) # test = 1000 + 128 = 1128"
      ],
      "metadata": {
        "id": "l81fjoIAxIHt"
      },
      "execution_count": null,
      "outputs": []
    },
    {
      "cell_type": "code",
      "source": [
        "# Easily find most of Ram are 4,8,16,32, so suppose when >=16, Ram is high Ram\n",
        "# Suppose High_Ram is 1, lower Ram is 0.\n",
        "data['High_RAM'] = data['Ram'].apply(lambda x: 1 if x >= 16 else 0)\n",
        "\n",
        "# print(data['High_Ram'][36]) # test = 0"
      ],
      "metadata": {
        "id": "yOL5DCoxuUTT"
      },
      "execution_count": null,
      "outputs": []
    },
    {
      "cell_type": "markdown",
      "source": [
        "\n",
        "\n",
        "```\n",
        "Feature: 'CPU_brand', 'Total_Memory_GB', 'High_RAM', 'GPU_brand', 'Company', 'TypeName', 'OpSys', 'PPI'.\n",
        "```\n",
        "\n"
      ],
      "metadata": {
        "id": "nn-SZKAEUEey"
      }
    },
    {
      "cell_type": "code",
      "source": [
        "# Feature Processing"
      ],
      "metadata": {
        "id": "xcwd4zUXWMaX"
      },
      "execution_count": null,
      "outputs": []
    },
    {
      "cell_type": "code",
      "source": [
        "numerical_features = ['Ram', 'Weight', 'Price', 'PPI', 'Total_Memory_GB']\n",
        "categorical_features = ['Company', 'TypeName', 'OpSys', 'Gpu_brand', 'CPU_brand','High_RAM']"
      ],
      "metadata": {
        "id": "ahOZN6MhULD7"
      },
      "execution_count": null,
      "outputs": []
    },
    {
      "cell_type": "code",
      "source": [
        "transformers=[('num', StandardScaler(), numerical_features), ('cat', OneHotEncoder(handle_unknown='ignore'), categorical_features)]\n",
        "preprocessor = ColumnTransformer(transformers)\n",
        "\n",
        "processed_array = preprocessor.fit_transform(data)"
      ],
      "metadata": {
        "id": "bezPUh1hZ9NP"
      },
      "execution_count": null,
      "outputs": []
    },
    {
      "cell_type": "code",
      "source": [
        "find_encoder = preprocessor.named_transformers_['cat']\n",
        "encoded_cat_features = find_encoder.get_feature_names_out(categorical_features)\n",
        "final_features = list(encoded_cat_features) + numerical_features\n",
        "processed_data = pd.DataFrame(\n",
        "    processed_array.toarray() if hasattr(processed_array, 'toarray') else processed_array,\n",
        "    columns=final_features)\n"
      ],
      "metadata": {
        "id": "Dql-o0epaZIX"
      },
      "execution_count": null,
      "outputs": []
    },
    {
      "cell_type": "code",
      "source": [
        "processed_data.to_csv('/content/drive/MyDrive/Colab Notebooks/5243final/laptopData_PROCESSED.csv', index=False)\n",
        "\n",
        "print(\"Feature engineering and preprocessing completed. Processed data saved as 'laptopData_PROCESSED.csv'.\")\n"
      ],
      "metadata": {
        "colab": {
          "base_uri": "https://localhost:8080/"
        },
        "id": "GNn4YZrGaevh",
        "outputId": "25c33162-b8e1-436a-98e8-36ec91ee0725"
      },
      "execution_count": null,
      "outputs": [
        {
          "output_type": "stream",
          "name": "stdout",
          "text": [
            "Feature engineering and preprocessing completed. Processed data saved as 'laptopData_PROCESSED.csv'.\n"
          ]
        }
      ]
    }
  ]
}