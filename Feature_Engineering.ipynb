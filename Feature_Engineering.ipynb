{
  "cells": [
    {
      "cell_type": "code",
      "execution_count": 15,
      "metadata": {
        "id": "6ufxHIN26Xbu"
      },
      "outputs": [],
      "source": [
        "import pandas as pd\n",
        "from sklearn.preprocessing import StandardScaler, OneHotEncoder\n",
        "from sklearn.compose import ColumnTransformer\n",
        "from sklearn.pipeline import Pipeline\n",
        "from sklearn.impute import SimpleImputer\n",
        "import numpy as np"
      ]
    },
    {
      "cell_type": "code",
      "execution_count": 16,
      "metadata": {
        "colab": {
          "base_uri": "https://localhost:8080/"
        },
        "id": "Y7Tp7Q9t8dp5",
        "outputId": "7ac71516-1025-4546-9639-4f2fd206c9f8"
      },
      "outputs": [],
      "source": [
        "# from google.colab import drive\n",
        "# drive.mount('/content/drive')"
      ]
    },
    {
      "cell_type": "code",
      "execution_count": 17,
      "metadata": {
        "id": "5hbStTCX6fBT"
      },
      "outputs": [],
      "source": [
        "# data = pd.read_csv('/content/drive/MyDrive/Colab Notebooks/5243final/laptopData_CLEAN.csv')"
      ]
    },
    {
      "cell_type": "code",
      "execution_count": 18,
      "metadata": {},
      "outputs": [],
      "source": [
        "data = pd.read_csv('laptopData_CLEAN_RemoveOutliers.csv')"
      ]
    },
    {
      "cell_type": "code",
      "execution_count": 19,
      "metadata": {
        "colab": {
          "base_uri": "https://localhost:8080/"
        },
        "id": "9pvGM2Kkyjnd",
        "outputId": "053d89db-d3df-4f69-88b5-b9fd034ac12f"
      },
      "outputs": [
        {
          "name": "stdout",
          "output_type": "stream",
          "text": [
            "Company          0\n",
            "TypeName         0\n",
            "Ram              0\n",
            "OpSys            0\n",
            "Weight           0\n",
            "Price            0\n",
            "PPI              0\n",
            "Cpu processor    0\n",
            "Gpu_brand        0\n",
            "HDD              0\n",
            "SSD              0\n",
            "Hybrid           0\n",
            "Flash_Storage    0\n",
            "dtype: int64\n"
          ]
        }
      ],
      "source": [
        "print(data.isnull().sum())"
      ]
    },
    {
      "cell_type": "code",
      "execution_count": 20,
      "metadata": {
        "colab": {
          "base_uri": "https://localhost:8080/"
        },
        "id": "OyBJN2NgA7u4",
        "outputId": "475ec35d-7c52-4ef7-f5a3-86b2dbd3691a"
      },
      "outputs": [
        {
          "name": "stdout",
          "output_type": "stream",
          "text": [
            "Index(['Company', 'TypeName', 'Ram', 'OpSys', 'Weight', 'Price', 'PPI',\n",
            "       'Cpu processor', 'Gpu_brand', 'HDD', 'SSD', 'Hybrid', 'Flash_Storage'],\n",
            "      dtype='object')\n"
          ]
        }
      ],
      "source": [
        "print(data.columns)"
      ]
    },
    {
      "cell_type": "code",
      "execution_count": 21,
      "metadata": {
        "id": "CrtEvE9L_DPC"
      },
      "outputs": [],
      "source": [
        "# Get CPU brand\n",
        "data['CPU_brand'] = data['Cpu processor'].map(lambda x: x.split()[0] if isinstance(x, str) else np.nan)"
      ]
    },
    {
      "cell_type": "code",
      "execution_count": 22,
      "metadata": {
        "id": "l81fjoIAxIHt"
      },
      "outputs": [],
      "source": [
        "# Get total memory with sum of 'HDD','SSD','Hybrid' and 'Flash_Storage'\n",
        "data['Total_Memory_GB'] = data[['HDD', 'SSD', 'Hybrid', 'Flash_Storage']].sum(axis=1)"
      ]
    },
    {
      "cell_type": "code",
      "execution_count": 23,
      "metadata": {
        "id": "yOL5DCoxuUTT"
      },
      "outputs": [],
      "source": [
        "# Easily find most of Ram are 4,8,16,32, so suppose when >=16, Ram is high Ram\n",
        "# Suppose High_Ram is 1, lower Ram is 0.\n",
        "data['High_RAM'] = data['Ram'].apply(lambda x: 1 if x >= 16 else 0)"
      ]
    },
    {
      "cell_type": "markdown",
      "metadata": {
        "id": "nn-SZKAEUEey"
      },
      "source": [
        "\n",
        "\n",
        "```\n",
        "Feature: 'CPU_brand', 'Total_Memory_GB', 'High_RAM', 'GPU_brand', 'Company', 'TypeName', 'OpSys', 'PPI'.\n",
        "```\n",
        "\n"
      ]
    },
    {
      "cell_type": "code",
      "execution_count": 24,
      "metadata": {
        "id": "xcwd4zUXWMaX"
      },
      "outputs": [],
      "source": [
        "# Feature Processing"
      ]
    },
    {
      "cell_type": "code",
      "execution_count": null,
      "metadata": {
        "id": "ahOZN6MhULD7"
      },
      "outputs": [],
      "source": [
        "numerical_features = ['Ram', 'Weight', 'PPI', 'Total_Memory_GB']\n",
        "categorical_features = ['Company', 'TypeName', 'OpSys', 'Gpu_brand', 'CPU_brand','High_RAM']"
      ]
    },
    {
      "cell_type": "code",
      "execution_count": 26,
      "metadata": {
        "id": "bezPUh1hZ9NP"
      },
      "outputs": [],
      "source": [
        "transformers=[('num', StandardScaler(), numerical_features), ('cat', OneHotEncoder(handle_unknown='ignore'), categorical_features)]\n",
        "preprocessor = ColumnTransformer(transformers)\n",
        "\n",
        "processed_array = preprocessor.fit_transform(data)"
      ]
    },
    {
      "cell_type": "code",
      "execution_count": null,
      "metadata": {
        "id": "Dql-o0epaZIX"
      },
      "outputs": [],
      "source": [
        "find_encoder = preprocessor.named_transformers_['cat']\n",
        "encoded_cat_features = find_encoder.get_feature_names_out(categorical_features)\n",
        "final_features = list(encoded_cat_features) + numerical_features\n",
        "processed_data = pd.DataFrame(\n",
        "    processed_array.toarray() if hasattr(processed_array, 'toarray') else processed_array,\n",
        "    columns=final_features\n",
        ")\n",
        "\n",
        "# Add Price column back without any transformations\n",
        "processed_data['Price'] = data['Price'].values\n",
        "\n"
      ]
    },
    {
      "cell_type": "code",
      "execution_count": 28,
      "metadata": {
        "colab": {
          "base_uri": "https://localhost:8080/"
        },
        "id": "GNn4YZrGaevh",
        "outputId": "50c678e0-ccf5-4018-827c-7b98d0be45ca"
      },
      "outputs": [
        {
          "name": "stdout",
          "output_type": "stream",
          "text": [
            "Feature engineering and preprocessing completed. Processed data saved as 'laptopData_PROCESSED.csv'.\n"
          ]
        }
      ],
      "source": [
        "# processed_data.to_csv('/content/drive/MyDrive/Colab Notebooks/5243final/laptopData_PROCESSED.csv', index=False)\n",
        "processed_data.to_csv('laptopData_PROCESSED.csv', index=False)\n",
        "\n",
        "print(\"Feature engineering and preprocessing completed. Processed data saved as 'laptopData_PROCESSED.csv'.\")\n"
      ]
    }
  ],
  "metadata": {
    "colab": {
      "provenance": []
    },
    "kernelspec": {
      "display_name": "laptop_project",
      "language": "python",
      "name": "python3"
    },
    "language_info": {
      "codemirror_mode": {
        "name": "ipython",
        "version": 3
      },
      "file_extension": ".py",
      "mimetype": "text/x-python",
      "name": "python",
      "nbconvert_exporter": "python",
      "pygments_lexer": "ipython3",
      "version": "3.11.11"
    }
  },
  "nbformat": 4,
  "nbformat_minor": 0
}
