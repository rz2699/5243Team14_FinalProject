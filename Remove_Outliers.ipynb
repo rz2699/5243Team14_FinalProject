{
 "cells": [
  {
   "cell_type": "code",
   "execution_count": null,
   "id": "e64bbc33",
   "metadata": {},
   "outputs": [
    {
     "name": "stdout",
     "output_type": "stream",
     "text": [
      "Original data shape: (1243, 13)\n",
      "Data shape after outlier removal: (962, 13)\n",
      "New file 'laptopData_CLEAN_RemoveOutliers.csv' has been saved!\n"
     ]
    }
   ],
   "source": [
    "import pandas as pd\n",
    "\n",
    "data = pd.read_csv('laptopData_CLEAN.csv')\n",
    "\n",
    "# Function to remove outliers using IQR\n",
    "def remove_outliers_iqr(df, features):\n",
    "    for feature in features:\n",
    "        Q1 = df[feature].quantile(0.25)\n",
    "        Q3 = df[feature].quantile(0.75)\n",
    "        IQR = Q3 - Q1\n",
    "        lower_bound = Q1 - 1.5 * IQR\n",
    "        upper_bound = Q3 + 1.5 * IQR\n",
    "\n",
    "        df = df[(df[feature] >= lower_bound) & (df[feature] <= upper_bound)]\n",
    "    return df\n",
    "\n",
    "# List of numerical features to check\n",
    "numerical_features = ['Price', 'Ram', 'Weight', 'PPI']\n",
    "\n",
    "# Remove outliers\n",
    "data_cleaned = remove_outliers_iqr(data, numerical_features)\n",
    "\n",
    "# Save the new cleaned dataset\n",
    "data_cleaned.to_csv('laptopData_CLEAN_RemoveOutliers.csv', index=False)\n",
    "\n",
    "# Print confirmation\n",
    "print(f\"Original data shape: {data.shape}\")\n",
    "print(f\"Data shape after outlier removal: {data_cleaned.shape}\")\n",
    "print(\"New file 'laptopData_CLEAN_RemoveOutliers.csv' has been saved!\")"
   ]
  }
 ],
 "metadata": {
  "kernelspec": {
   "display_name": "laptop_project",
   "language": "python",
   "name": "python3"
  },
  "language_info": {
   "codemirror_mode": {
    "name": "ipython",
    "version": 3
   },
   "file_extension": ".py",
   "mimetype": "text/x-python",
   "name": "python",
   "nbconvert_exporter": "python",
   "pygments_lexer": "ipython3",
   "version": "3.11.11"
  }
 },
 "nbformat": 4,
 "nbformat_minor": 5
}
